{
 "cells": [
  {
   "cell_type": "code",
   "execution_count": 1,
   "metadata": {},
   "outputs": [],
   "source": [
    "import numpy as np\n",
    "import matplotlib.pyplot as plt\n",
    "from ipywidgets import interact\n",
    "import ipywidgets as widgets\n",
    "\n",
    "%matplotlib inline"
   ]
  },
  {
   "cell_type": "code",
   "execution_count": 2,
   "metadata": {},
   "outputs": [],
   "source": [
    "\n",
    "def get_alpha(chi_mf,  alpha1=.01, A=1):\n",
    "    alpha1 = alpha1\n",
    "    A = A\n",
    "    B = np.log((alpha1 ** -1) * A - 1)\n",
    "    return A / (1 + np.exp(B * chi_mf))\n",
    "\n",
    "\n",
    "def get_beta(chi_mb,  beta1=.1, A=.5):\n",
    "    beta1 = beta1\n",
    "    A = A\n",
    "    B = np.log((beta1 ** -1) * A - 1)\n",
    "    return A / (1 + np.exp(B * chi_mb))\n"
   ]
  },
  {
   "cell_type": "code",
   "execution_count": 3,
   "metadata": {},
   "outputs": [],
   "source": [
    "def plot_alpha(alpha1, A):\n",
    "    plt.plot(np.arange(0, 1, .01), get_alpha(np.arange(0, 1, .01), alpha1, A))\n",
    "    plt.ylim([0,2])"
   ]
  },
  {
   "cell_type": "code",
   "execution_count": 4,
   "metadata": {},
   "outputs": [
    {
     "data": {
      "application/vnd.jupyter.widget-view+json": {
       "model_id": "e7c04ffc32b44fadba739a969a13c940",
       "version_major": 2,
       "version_minor": 0
      },
      "text/plain": [
       "interactive(children=(FloatSlider(value=0.197, description='alpha1', max=0.4, min=0.01, step=0.011), FloatSlid…"
      ]
     },
     "metadata": {},
     "output_type": "display_data"
    },
    {
     "data": {
      "text/plain": [
       "<function __main__.plot_alpha(alpha1, A)>"
      ]
     },
     "execution_count": 4,
     "metadata": {},
     "output_type": "execute_result"
    }
   ],
   "source": [
    "interact(plot_alpha, alpha1=(.01, .4, .011), A=(1,5,.1))"
   ]
  },
  {
   "cell_type": "code",
   "execution_count": 5,
   "metadata": {},
   "outputs": [
    {
     "data": {
      "application/vnd.jupyter.widget-view+json": {
       "model_id": "a93f2eb981794aefacfe64a729740876",
       "version_major": 2,
       "version_minor": 0
      },
      "text/plain": [
       "interactive(children=(FloatSlider(value=0.197, description='beta1', max=0.4, min=0.01, step=0.011), FloatSlide…"
      ]
     },
     "metadata": {},
     "output_type": "display_data"
    },
    {
     "data": {
      "text/plain": [
       "<function __main__.plot_beta(beta1, A)>"
      ]
     },
     "execution_count": 5,
     "metadata": {},
     "output_type": "execute_result"
    }
   ],
   "source": [
    "def plot_beta(beta1, A):\n",
    "    plt.plot(np.arange(0, 1, .01), get_beta(np.arange(0, 1, .01), beta1, A))\n",
    "    plt.ylim([0,2])\n",
    "\n",
    "interact(plot_beta, beta1=(.01, .4, .011), A=(1,5,.1))"
   ]
  },
  {
   "cell_type": "code",
   "execution_count": 6,
   "metadata": {},
   "outputs": [],
   "source": [
    "def get_fixed_point(alpha, beta):\n",
    "    return alpha / (alpha + beta)"
   ]
  },
  {
   "cell_type": "code",
   "execution_count": null,
   "metadata": {},
   "outputs": [],
   "source": []
  },
  {
   "cell_type": "code",
   "execution_count": 7,
   "metadata": {},
   "outputs": [],
   "source": [
    "bin_size = .02\n",
    "\n",
    "r_mb, r_mf = np.meshgrid(np.arange(0,1, bin_size), np.arange(0,1, bin_size))\n",
    "\n",
    "r_mf = np.flipud(r_mf)"
   ]
  },
  {
   "cell_type": "code",
   "execution_count": null,
   "metadata": {},
   "outputs": [],
   "source": []
  },
  {
   "cell_type": "code",
   "execution_count": 8,
   "metadata": {},
   "outputs": [],
   "source": [
    "alphas = get_alpha(r_mf)\n",
    "betas = get_beta(r_mb)"
   ]
  },
  {
   "cell_type": "code",
   "execution_count": 9,
   "metadata": {},
   "outputs": [],
   "source": [
    "fp = get_fixed_point(alphas, betas)"
   ]
  },
  {
   "cell_type": "code",
   "execution_count": 10,
   "metadata": {},
   "outputs": [
    {
     "data": {
      "text/plain": [
       "<matplotlib.image.AxesImage at 0x114c6cac8>"
      ]
     },
     "execution_count": 10,
     "metadata": {},
     "output_type": "execute_result"
    },
    {
     "data": {
      "image/png": "[encoded data removed]",
      "text/plain": [
       "<Figure size 432x288 with 1 Axes>"
      ]
     },
     "metadata": {
      "needs_background": "light"
     },
     "output_type": "display_data"
    }
   ],
   "source": [
    "plt.imshow(fp)"
   ]
  },
  {
   "cell_type": "code",
   "execution_count": 11,
   "metadata": {},
   "outputs": [],
   "source": [
    "def plot_fp(A_alpha, A_beta, alpha1, beta1):\n",
    "    alphas = get_alpha(r_mf, A=A_alpha, alpha1=alpha1)\n",
    "    betas = get_beta(r_mb, A=A_beta, beta1=beta1)\n",
    "    \n",
    "    fp = get_fixed_point(alphas, betas)\n",
    "    \n",
    "    plt.imshow(fp)\n",
    "    plt.colorbar()\n",
    "    plt.xlabel('reliability SR')\n",
    "    plt.ylabel('reliability MF')\n"
   ]
  },
  {
   "cell_type": "code",
   "execution_count": null,
   "metadata": {},
   "outputs": [],
   "source": []
  },
  {
   "cell_type": "code",
   "execution_count": 12,
   "metadata": {},
   "outputs": [
    {
     "data": {
      "application/vnd.jupyter.widget-view+json": {
       "model_id": "9603f5f04d9e4f2db8664e5b154b34bc",
       "version_major": 2,
       "version_minor": 0
      },
      "text/plain": [
       "interactive(children=(FloatSlider(value=14.95, description='A_alpha', max=30.0, min=0.1, step=0.11), FloatSlid…"
      ]
     },
     "metadata": {},
     "output_type": "display_data"
    },
    {
     "data": {
      "text/plain": [
       "<function __main__.plot_fp(A_alpha, A_beta, alpha1, beta1)>"
      ]
     },
     "execution_count": 12,
     "metadata": {},
     "output_type": "execute_result"
    }
   ],
   "source": [
    "interact(plot_fp, A_alpha=(.1, 30, .11), A_beta=(.1,10,.01), alpha1=(.01, .4, .011), beta1=(.01, .4, .011))"
   ]
  },
  {
   "cell_type": "code",
   "execution_count": 13,
   "metadata": {},
   "outputs": [
    {
     "name": "stdout",
     "output_type": "stream",
     "text": [
      "Loaded reward traces from file.\n",
      "Loaded reward traces from file.\n"
     ]
    }
   ],
   "source": [
    "# Try running 2 agents\n",
    "from hippocampus.experiments.twostep import CombinedAgent\n",
    "from hippocampus.environments import TwoStepTask\n",
    "import pandas as pd\n",
    "from tqdm import tqdm_notebook as tqdm"
   ]
  },
  {
   "cell_type": "code",
   "execution_count": 14,
   "metadata": {},
   "outputs": [
    {
     "data": {
      "application/vnd.jupyter.widget-view+json": {
       "model_id": "cbd5567113374fbcae6d467f928ca09b",
       "version_major": 2,
       "version_minor": 0
      },
      "text/plain": [
       "HBox(children=(IntProgress(value=1, bar_style='info', max=1), HTML(value='')))"
      ]
     },
     "metadata": {},
     "output_type": "display_data"
    },
    {
     "name": "stdout",
     "output_type": "stream",
     "text": [
      "Loaded reward traces from file.\n",
      "Loaded reward traces from file.\n",
      "\n"
     ]
    }
   ],
   "source": [
    "data = []\n",
    "\n",
    "a1s = [.01, .2]\n",
    "\n",
    "amplitudes = [.5, 10]\n",
    "slopes = [.01, .2]\n",
    "\n",
    "A_beta = [2, .5]\n",
    "beta1 = [.3, .1]\n",
    "\n",
    "\n",
    "\n",
    "for i, a in tqdm(enumerate([.5,2])):\n",
    "    df = pd.DataFrame({})\n",
    "    e = TwoStepTask()\n",
    "    ag = CombinedAgent(e, A_alpha=amplitudes[i], alpha1=slopes[i], \n",
    "                       A_beta=A_beta[i], beta1=beta1[i],\n",
    "                       lesion_dls=False)\n",
    "\n",
    "    for ep in range(e.n_trials):\n",
    "        results = ag.one_episode()\n",
    "        results['Trial'] = ep\n",
    "        results['Agent'] = i\n",
    "        df = df.append(results, ignore_index=True)\n",
    "    data.append(df)\n"
   ]
  },
  {
   "cell_type": "code",
   "execution_count": 15,
   "metadata": {},
   "outputs": [],
   "source": [
    "from hippocampus.analysis.mb_allocentric_analysis import get_model_weights"
   ]
  },
  {
   "cell_type": "code",
   "execution_count": 16,
   "metadata": {},
   "outputs": [
    {
     "name": "stdout",
     "output_type": "stream",
     "text": [
      "Optimization terminated successfully.\n",
      "         Current function value: 0.517823\n",
      "         Iterations 6\n"
     ]
    },
    {
     "data": {
      "text/plain": [
       "(1.0930263855503506, 1.9486924956080711)"
      ]
     },
     "execution_count": 16,
     "metadata": {},
     "output_type": "execute_result"
    }
   ],
   "source": [
    "get_model_weights(data[0])"
   ]
  },
  {
   "cell_type": "code",
   "execution_count": 17,
   "metadata": {},
   "outputs": [
    {
     "name": "stdout",
     "output_type": "stream",
     "text": [
      "Optimization terminated successfully.\n",
      "         Current function value: 0.625247\n",
      "         Iterations 5\n"
     ]
    },
    {
     "data": {
      "text/plain": [
       "(2.0820905498514133, 1.6582280766035324)"
      ]
     },
     "execution_count": 17,
     "metadata": {},
     "output_type": "execute_result"
    }
   ],
   "source": [
    "get_model_weights(data[1])"
   ]
  },
  {
   "cell_type": "code",
   "execution_count": null,
   "metadata": {},
   "outputs": [],
   "source": []
  },
  {
   "cell_type": "code",
   "execution_count": 18,
   "metadata": {},
   "outputs": [],
   "source": [
    "# try the spatial one"
   ]
  },
  {
   "cell_type": "code",
   "execution_count": 19,
   "metadata": {},
   "outputs": [],
   "source": [
    "from hippocampus.agents import CombinedAgent as SpatialAgent\n",
    "from hippocampus.environments import HexWaterMaze\n",
    "from hippocampus.analysis.mb_allocentric_analysis import get_allo_index, get_first_trial_info, get_surrounding_states"
   ]
  },
  {
   "cell_type": "code",
   "execution_count": 20,
   "metadata": {},
   "outputs": [],
   "source": [
    "def run_watermaze():\n",
    "    \n",
    "    dfs = [] \n",
    "    amplitudes = [.5, 10]\n",
    "    slopes = [.01, .2]\n",
    "    \n",
    "    A_beta = [2, .5]\n",
    "    beta1 = [.3, .1]\n",
    "    num_agents = len(amplitudes)\n",
    "    \n",
    "    g = HexWaterMaze(6)\n",
    "\n",
    "    for i_a in range(num_agents):\n",
    "        #possible_platform_states = np.array([192, 185, 181, 174, 216, 210, 203, 197])  # for the r = 10 case\n",
    "\n",
    "        possible_platform_states = np.array([48, 45, 42, 39, 60, 57, 54, 51])\n",
    "        platform_sequence = determine_platform_seq(possible_platform_states, g)\n",
    "\n",
    "        # intialise agent\n",
    "        agent = SpatialAgent(g, init_sr='rw', A_alpha=amplitudes[i_a], alpha1=slopes[i_a], \n",
    "                             A_beta=A_beta[i_a], beta1=beta1[i_a])\n",
    "        agent_results = []\n",
    "        session = 0\n",
    "\n",
    "        total_trial_count = 0\n",
    "\n",
    "        for ses in tqdm(range(11)):\n",
    "            for trial in tqdm(range(4), leave=False):\n",
    "                # every first trial of a session, change the platform location\n",
    "                if trial == 0:\n",
    "                    g.set_platform_state(platform_sequence[ses])\n",
    "\n",
    "                res = agent.one_episode(random_policy=False)\n",
    "                res['trial'] = trial\n",
    "                res['escape time'] = res.time.max()\n",
    "                res['session'] = ses\n",
    "                res['total trial'] = total_trial_count\n",
    "                agent_results.append(res)\n",
    "                total_trial_count += 1\n",
    "\n",
    "\n",
    "        agent_df = pd.concat(agent_results)\n",
    "        agent_df['total time'] = np.arange(len(agent_df))\n",
    "\n",
    "        dfs.append(agent_df)\n",
    "    return dfs\n"
   ]
  },
  {
   "cell_type": "code",
   "execution_count": null,
   "metadata": {},
   "outputs": [],
   "source": []
  },
  {
   "cell_type": "code",
   "execution_count": 21,
   "metadata": {},
   "outputs": [],
   "source": [
    "def determine_platform_seq(platform_states, env):\n",
    "    indices = np.arange(len(platform_states))\n",
    "    usage = np.zeros(len(platform_states))\n",
    "\n",
    "    plat_seq = [np.random.choice(platform_states)]\n",
    "    for sess in range(1, 11):\n",
    "        distances = np.array([env.grid.distance(plat_seq[sess - 1], s) for s in platform_states])\n",
    "        candidates = indices[np.logical_and(usage < 2, distances > env.grid.radius)]\n",
    "        platform_idx = np.random.choice(candidates)\n",
    "        plat_seq.append(platform_states[platform_idx])\n",
    "        usage[platform_idx] += 1.\n",
    "\n",
    "    return plat_seq\n",
    "\n"
   ]
  },
  {
   "cell_type": "code",
   "execution_count": 22,
   "metadata": {},
   "outputs": [
    {
     "data": {
      "application/vnd.jupyter.widget-view+json": {
       "model_id": "0a47103c471447c58012cc3449c4b769",
       "version_major": 2,
       "version_minor": 0
      },
      "text/plain": [
       "HBox(children=(IntProgress(value=0, max=11), HTML(value='')))"
      ]
     },
     "metadata": {},
     "output_type": "display_data"
    },
    {
     "data": {
      "application/vnd.jupyter.widget-view+json": {
       "model_id": "",
       "version_major": 2,
       "version_minor": 0
      },
      "text/plain": [
       "HBox(children=(IntProgress(value=0, max=4), HTML(value='')))"
      ]
     },
     "metadata": {},
     "output_type": "display_data"
    },
    {
     "data": {
      "application/vnd.jupyter.widget-view+json": {
       "model_id": "",
       "version_major": 2,
       "version_minor": 0
      },
      "text/plain": [
       "HBox(children=(IntProgress(value=0, max=4), HTML(value='')))"
      ]
     },
     "metadata": {},
     "output_type": "display_data"
    },
    {
     "data": {
      "application/vnd.jupyter.widget-view+json": {
       "model_id": "",
       "version_major": 2,
       "version_minor": 0
      },
      "text/plain": [
       "HBox(children=(IntProgress(value=0, max=4), HTML(value='')))"
      ]
     },
     "metadata": {},
     "output_type": "display_data"
    },
    {
     "data": {
      "application/vnd.jupyter.widget-view+json": {
       "model_id": "",
       "version_major": 2,
       "version_minor": 0
      },
      "text/plain": [
       "HBox(children=(IntProgress(value=0, max=4), HTML(value='')))"
      ]
     },
     "metadata": {},
     "output_type": "display_data"
    },
    {
     "data": {
      "application/vnd.jupyter.widget-view+json": {
       "model_id": "",
       "version_major": 2,
       "version_minor": 0
      },
      "text/plain": [
       "HBox(children=(IntProgress(value=0, max=4), HTML(value='')))"
      ]
     },
     "metadata": {},
     "output_type": "display_data"
    },
    {
     "data": {
      "application/vnd.jupyter.widget-view+json": {
       "model_id": "",
       "version_major": 2,
       "version_minor": 0
      },
      "text/plain": [
       "HBox(children=(IntProgress(value=0, max=4), HTML(value='')))"
      ]
     },
     "metadata": {},
     "output_type": "display_data"
    },
    {
     "data": {
      "application/vnd.jupyter.widget-view+json": {
       "model_id": "",
       "version_major": 2,
       "version_minor": 0
      },
      "text/plain": [
       "HBox(children=(IntProgress(value=0, max=4), HTML(value='')))"
      ]
     },
     "metadata": {},
     "output_type": "display_data"
    },
    {
     "data": {
      "application/vnd.jupyter.widget-view+json": {
       "model_id": "",
       "version_major": 2,
       "version_minor": 0
      },
      "text/plain": [
       "HBox(children=(IntProgress(value=0, max=4), HTML(value='')))"
      ]
     },
     "metadata": {},
     "output_type": "display_data"
    },
    {
     "data": {
      "application/vnd.jupyter.widget-view+json": {
       "model_id": "",
       "version_major": 2,
       "version_minor": 0
      },
      "text/plain": [
       "HBox(children=(IntProgress(value=0, max=4), HTML(value='')))"
      ]
     },
     "metadata": {},
     "output_type": "display_data"
    },
    {
     "data": {
      "application/vnd.jupyter.widget-view+json": {
       "model_id": "",
       "version_major": 2,
       "version_minor": 0
      },
      "text/plain": [
       "HBox(children=(IntProgress(value=0, max=4), HTML(value='')))"
      ]
     },
     "metadata": {},
     "output_type": "display_data"
    },
    {
     "data": {
      "application/vnd.jupyter.widget-view+json": {
       "model_id": "",
       "version_major": 2,
       "version_minor": 0
      },
      "text/plain": [
       "HBox(children=(IntProgress(value=0, max=4), HTML(value='')))"
      ]
     },
     "metadata": {},
     "output_type": "display_data"
    },
    {
     "name": "stdout",
     "output_type": "stream",
     "text": [
      "\n"
     ]
    },
    {
     "data": {
      "application/vnd.jupyter.widget-view+json": {
       "model_id": "3807c027d29d47ba93d6c51aba01169c",
       "version_major": 2,
       "version_minor": 0
      },
      "text/plain": [
       "HBox(children=(IntProgress(value=0, max=11), HTML(value='')))"
      ]
     },
     "metadata": {},
     "output_type": "display_data"
    },
    {
     "data": {
      "application/vnd.jupyter.widget-view+json": {
       "model_id": "",
       "version_major": 2,
       "version_minor": 0
      },
      "text/plain": [
       "HBox(children=(IntProgress(value=0, max=4), HTML(value='')))"
      ]
     },
     "metadata": {},
     "output_type": "display_data"
    },
    {
     "data": {
      "application/vnd.jupyter.widget-view+json": {
       "model_id": "",
       "version_major": 2,
       "version_minor": 0
      },
      "text/plain": [
       "HBox(children=(IntProgress(value=0, max=4), HTML(value='')))"
      ]
     },
     "metadata": {},
     "output_type": "display_data"
    },
    {
     "data": {
      "application/vnd.jupyter.widget-view+json": {
       "model_id": "",
       "version_major": 2,
       "version_minor": 0
      },
      "text/plain": [
       "HBox(children=(IntProgress(value=0, max=4), HTML(value='')))"
      ]
     },
     "metadata": {},
     "output_type": "display_data"
    },
    {
     "data": {
      "application/vnd.jupyter.widget-view+json": {
       "model_id": "",
       "version_major": 2,
       "version_minor": 0
      },
      "text/plain": [
       "HBox(children=(IntProgress(value=0, max=4), HTML(value='')))"
      ]
     },
     "metadata": {},
     "output_type": "display_data"
    },
    {
     "data": {
      "application/vnd.jupyter.widget-view+json": {
       "model_id": "",
       "version_major": 2,
       "version_minor": 0
      },
      "text/plain": [
       "HBox(children=(IntProgress(value=0, max=4), HTML(value='')))"
      ]
     },
     "metadata": {},
     "output_type": "display_data"
    },
    {
     "data": {
      "application/vnd.jupyter.widget-view+json": {
       "model_id": "",
       "version_major": 2,
       "version_minor": 0
      },
      "text/plain": [
       "HBox(children=(IntProgress(value=0, max=4), HTML(value='')))"
      ]
     },
     "metadata": {},
     "output_type": "display_data"
    },
    {
     "data": {
      "application/vnd.jupyter.widget-view+json": {
       "model_id": "",
       "version_major": 2,
       "version_minor": 0
      },
      "text/plain": [
       "HBox(children=(IntProgress(value=0, max=4), HTML(value='')))"
      ]
     },
     "metadata": {},
     "output_type": "display_data"
    },
    {
     "data": {
      "application/vnd.jupyter.widget-view+json": {
       "model_id": "",
       "version_major": 2,
       "version_minor": 0
      },
      "text/plain": [
       "HBox(children=(IntProgress(value=0, max=4), HTML(value='')))"
      ]
     },
     "metadata": {},
     "output_type": "display_data"
    },
    {
     "data": {
      "application/vnd.jupyter.widget-view+json": {
       "model_id": "",
       "version_major": 2,
       "version_minor": 0
      },
      "text/plain": [
       "HBox(children=(IntProgress(value=0, max=4), HTML(value='')))"
      ]
     },
     "metadata": {},
     "output_type": "display_data"
    },
    {
     "data": {
      "application/vnd.jupyter.widget-view+json": {
       "model_id": "",
       "version_major": 2,
       "version_minor": 0
      },
      "text/plain": [
       "HBox(children=(IntProgress(value=0, max=4), HTML(value='')))"
      ]
     },
     "metadata": {},
     "output_type": "display_data"
    },
    {
     "data": {
      "application/vnd.jupyter.widget-view+json": {
       "model_id": "",
       "version_major": 2,
       "version_minor": 0
      },
      "text/plain": [
       "HBox(children=(IntProgress(value=0, max=4), HTML(value='')))"
      ]
     },
     "metadata": {},
     "output_type": "display_data"
    },
    {
     "name": "stdout",
     "output_type": "stream",
     "text": [
      "\n"
     ]
    }
   ],
   "source": [
    "data = run_watermaze()"
   ]
  },
  {
   "cell_type": "code",
   "execution_count": 23,
   "metadata": {},
   "outputs": [],
   "source": [
    "env = HexWaterMaze(10)"
   ]
  },
  {
   "cell_type": "code",
   "execution_count": 24,
   "metadata": {},
   "outputs": [
    {
     "data": {
      "text/html": [
       "<div>\n",
       "<style scoped>\n",
       "    .dataframe tbody tr th:only-of-type {\n",
       "        vertical-align: middle;\n",
       "    }\n",
       "\n",
       "    .dataframe tbody tr th {\n",
       "        vertical-align: top;\n",
       "    }\n",
       "\n",
       "    .dataframe thead th {\n",
       "        text-align: right;\n",
       "    }\n",
       "</style>\n",
       "<table border=\"1\" class=\"dataframe\">\n",
       "  <thead>\n",
       "    <tr style=\"text-align: right;\">\n",
       "      <th></th>\n",
       "      <th>DLS reliability</th>\n",
       "      <th>HPC reliability</th>\n",
       "      <th>P(SR)</th>\n",
       "      <th>RPE</th>\n",
       "      <th>alpha</th>\n",
       "      <th>beta</th>\n",
       "      <th>escape time</th>\n",
       "      <th>platform</th>\n",
       "      <th>previous platform</th>\n",
       "      <th>reward</th>\n",
       "      <th>state</th>\n",
       "      <th>time</th>\n",
       "      <th>total time</th>\n",
       "      <th>trial</th>\n",
       "    </tr>\n",
       "    <tr>\n",
       "      <th>session</th>\n",
       "      <th></th>\n",
       "      <th></th>\n",
       "      <th></th>\n",
       "      <th></th>\n",
       "      <th></th>\n",
       "      <th></th>\n",
       "      <th></th>\n",
       "      <th></th>\n",
       "      <th></th>\n",
       "      <th></th>\n",
       "      <th></th>\n",
       "      <th></th>\n",
       "      <th></th>\n",
       "      <th></th>\n",
       "    </tr>\n",
       "  </thead>\n",
       "  <tbody>\n",
       "    <tr>\n",
       "      <th>1</th>\n",
       "      <td>0.011779</td>\n",
       "      <td>0.776085</td>\n",
       "      <td>0.371749</td>\n",
       "      <td>0.006282</td>\n",
       "      <td>0.244271</td>\n",
       "      <td>0.989785</td>\n",
       "      <td>285.0</td>\n",
       "      <td>192.0</td>\n",
       "      <td>210.0</td>\n",
       "      <td>0.003497</td>\n",
       "      <td>146.297203</td>\n",
       "      <td>142.5</td>\n",
       "      <td>2485.5</td>\n",
       "      <td>0</td>\n",
       "    </tr>\n",
       "    <tr>\n",
       "      <th>2</th>\n",
       "      <td>0.046637</td>\n",
       "      <td>0.658424</td>\n",
       "      <td>0.320115</td>\n",
       "      <td>0.045338</td>\n",
       "      <td>0.227375</td>\n",
       "      <td>0.959574</td>\n",
       "      <td>54.0</td>\n",
       "      <td>210.0</td>\n",
       "      <td>192.0</td>\n",
       "      <td>0.018182</td>\n",
       "      <td>158.909091</td>\n",
       "      <td>27.0</td>\n",
       "      <td>3142.0</td>\n",
       "      <td>0</td>\n",
       "    </tr>\n",
       "    <tr>\n",
       "      <th>3</th>\n",
       "      <td>0.123621</td>\n",
       "      <td>0.602345</td>\n",
       "      <td>0.268750</td>\n",
       "      <td>0.011416</td>\n",
       "      <td>0.190995</td>\n",
       "      <td>0.893192</td>\n",
       "      <td>123.0</td>\n",
       "      <td>192.0</td>\n",
       "      <td>210.0</td>\n",
       "      <td>0.008065</td>\n",
       "      <td>121.024194</td>\n",
       "      <td>61.5</td>\n",
       "      <td>3715.5</td>\n",
       "      <td>0</td>\n",
       "    </tr>\n",
       "    <tr>\n",
       "      <th>4</th>\n",
       "      <td>0.168176</td>\n",
       "      <td>0.496329</td>\n",
       "      <td>0.223521</td>\n",
       "      <td>0.019473</td>\n",
       "      <td>0.170987</td>\n",
       "      <td>0.855167</td>\n",
       "      <td>118.0</td>\n",
       "      <td>174.0</td>\n",
       "      <td>192.0</td>\n",
       "      <td>0.008403</td>\n",
       "      <td>179.596639</td>\n",
       "      <td>59.0</td>\n",
       "      <td>4130.0</td>\n",
       "      <td>0</td>\n",
       "    </tr>\n",
       "    <tr>\n",
       "      <th>5</th>\n",
       "      <td>0.207541</td>\n",
       "      <td>0.478697</td>\n",
       "      <td>0.202583</td>\n",
       "      <td>0.005679</td>\n",
       "      <td>0.154189</td>\n",
       "      <td>0.821919</td>\n",
       "      <td>257.0</td>\n",
       "      <td>210.0</td>\n",
       "      <td>174.0</td>\n",
       "      <td>0.003876</td>\n",
       "      <td>132.186047</td>\n",
       "      <td>128.5</td>\n",
       "      <td>4776.5</td>\n",
       "      <td>0</td>\n",
       "    </tr>\n",
       "    <tr>\n",
       "      <th>6</th>\n",
       "      <td>0.244880</td>\n",
       "      <td>0.466913</td>\n",
       "      <td>0.184352</td>\n",
       "      <td>0.007599</td>\n",
       "      <td>0.139138</td>\n",
       "      <td>0.790753</td>\n",
       "      <td>254.0</td>\n",
       "      <td>185.0</td>\n",
       "      <td>210.0</td>\n",
       "      <td>0.003922</td>\n",
       "      <td>129.827451</td>\n",
       "      <td>127.0</td>\n",
       "      <td>6195.0</td>\n",
       "      <td>0</td>\n",
       "    </tr>\n",
       "    <tr>\n",
       "      <th>7</th>\n",
       "      <td>0.295309</td>\n",
       "      <td>0.435760</td>\n",
       "      <td>0.158472</td>\n",
       "      <td>0.004068</td>\n",
       "      <td>0.120309</td>\n",
       "      <td>0.749335</td>\n",
       "      <td>208.0</td>\n",
       "      <td>216.0</td>\n",
       "      <td>185.0</td>\n",
       "      <td>0.004785</td>\n",
       "      <td>160.765550</td>\n",
       "      <td>104.0</td>\n",
       "      <td>6770.0</td>\n",
       "      <td>0</td>\n",
       "    </tr>\n",
       "    <tr>\n",
       "      <th>8</th>\n",
       "      <td>0.340893</td>\n",
       "      <td>0.429987</td>\n",
       "      <td>0.140156</td>\n",
       "      <td>0.004648</td>\n",
       "      <td>0.104854</td>\n",
       "      <td>0.712668</td>\n",
       "      <td>337.0</td>\n",
       "      <td>185.0</td>\n",
       "      <td>216.0</td>\n",
       "      <td>0.002959</td>\n",
       "      <td>195.082840</td>\n",
       "      <td>168.5</td>\n",
       "      <td>7283.5</td>\n",
       "      <td>0</td>\n",
       "    </tr>\n",
       "    <tr>\n",
       "      <th>9</th>\n",
       "      <td>0.398786</td>\n",
       "      <td>0.403911</td>\n",
       "      <td>0.116505</td>\n",
       "      <td>0.007825</td>\n",
       "      <td>0.087399</td>\n",
       "      <td>0.667295</td>\n",
       "      <td>135.0</td>\n",
       "      <td>197.0</td>\n",
       "      <td>185.0</td>\n",
       "      <td>0.007353</td>\n",
       "      <td>195.169118</td>\n",
       "      <td>67.5</td>\n",
       "      <td>8039.5</td>\n",
       "      <td>0</td>\n",
       "    </tr>\n",
       "    <tr>\n",
       "      <th>10</th>\n",
       "      <td>0.452342</td>\n",
       "      <td>0.390282</td>\n",
       "      <td>0.098251</td>\n",
       "      <td>0.006776</td>\n",
       "      <td>0.073368</td>\n",
       "      <td>0.626645</td>\n",
       "      <td>213.0</td>\n",
       "      <td>216.0</td>\n",
       "      <td>197.0</td>\n",
       "      <td>0.004673</td>\n",
       "      <td>147.696262</td>\n",
       "      <td>106.5</td>\n",
       "      <td>8700.5</td>\n",
       "      <td>0</td>\n",
       "    </tr>\n",
       "  </tbody>\n",
       "</table>\n",
       "</div>"
      ],
      "text/plain": [
       "         DLS reliability  HPC reliability     P(SR)       RPE     alpha  \\\n",
       "session                                                                   \n",
       "1               0.011779         0.776085  0.371749  0.006282  0.244271   \n",
       "2               0.046637         0.658424  0.320115  0.045338  0.227375   \n",
       "3               0.123621         0.602345  0.268750  0.011416  0.190995   \n",
       "4               0.168176         0.496329  0.223521  0.019473  0.170987   \n",
       "5               0.207541         0.478697  0.202583  0.005679  0.154189   \n",
       "6               0.244880         0.466913  0.184352  0.007599  0.139138   \n",
       "7               0.295309         0.435760  0.158472  0.004068  0.120309   \n",
       "8               0.340893         0.429987  0.140156  0.004648  0.104854   \n",
       "9               0.398786         0.403911  0.116505  0.007825  0.087399   \n",
       "10              0.452342         0.390282  0.098251  0.006776  0.073368   \n",
       "\n",
       "             beta  escape time  platform  previous platform    reward  \\\n",
       "session                                                                 \n",
       "1        0.989785        285.0     192.0              210.0  0.003497   \n",
       "2        0.959574         54.0     210.0              192.0  0.018182   \n",
       "3        0.893192        123.0     192.0              210.0  0.008065   \n",
       "4        0.855167        118.0     174.0              192.0  0.008403   \n",
       "5        0.821919        257.0     210.0              174.0  0.003876   \n",
       "6        0.790753        254.0     185.0              210.0  0.003922   \n",
       "7        0.749335        208.0     216.0              185.0  0.004785   \n",
       "8        0.712668        337.0     185.0              216.0  0.002959   \n",
       "9        0.667295        135.0     197.0              185.0  0.007353   \n",
       "10       0.626645        213.0     216.0              197.0  0.004673   \n",
       "\n",
       "              state   time  total time  trial  \n",
       "session                                        \n",
       "1        146.297203  142.5      2485.5      0  \n",
       "2        158.909091   27.0      3142.0      0  \n",
       "3        121.024194   61.5      3715.5      0  \n",
       "4        179.596639   59.0      4130.0      0  \n",
       "5        132.186047  128.5      4776.5      0  \n",
       "6        129.827451  127.0      6195.0      0  \n",
       "7        160.765550  104.0      6770.0      0  \n",
       "8        195.082840  168.5      7283.5      0  \n",
       "9        195.169118   67.5      8039.5      0  \n",
       "10       147.696262  106.5      8700.5      0  "
      ]
     },
     "execution_count": 24,
     "metadata": {},
     "output_type": "execute_result"
    }
   ],
   "source": [
    "get_first_trial_info(data[0])"
   ]
  },
  {
   "cell_type": "code",
   "execution_count": 25,
   "metadata": {},
   "outputs": [],
   "source": [
    "def get_surrounding_states(state, env, rec_depth=5):\n",
    "    surrounding_states = [state]\n",
    "    for i in range(rec_depth):\n",
    "        added_states = []\n",
    "        for s in surrounding_states:\n",
    "            neighbours = np.flatnonzero(env.adjacency_graph[s])\n",
    "            for n in neighbours:\n",
    "                if n not in surrounding_states and n not in added_states:\n",
    "                    added_states.append(n)\n",
    "        surrounding_states += added_states\n",
    "    return surrounding_states\n",
    "\n",
    "\n",
    "#def get_surrounding_states(state, env):\n",
    "#    x, y = env.get_state_location(216)\n",
    "#    if y >= 0:\n",
    "#        states = [s for s in env.state_indices if env.grid.cart_coords[s][1] >=0]\n",
    "#    else:\n",
    "#        states = [s for s in env.state_indices if env.grid.cart_coords[s][1] <0]\n",
    "#    return states\n",
    "\n",
    "def get_allo_index(agent_data, env):\n",
    "    first_trials = get_first_trial_info(agent_data)\n",
    "    prop_times = []\n",
    "    for ses in range(1,5):\n",
    "        states = np.sort(agent_data[(agent_data.session == ses) & (agent_data.trial == 0)]['state'])\n",
    "        previous_platform = first_trials['previous platform'][ses]\n",
    "        surrounding_states = np.sort(np.array(get_surrounding_states(int(previous_platform), env)))\n",
    "        \n",
    "        #indices = np.searchsorted(states, surrounding_states)\n",
    "        times = np.isin(states, surrounding_states).sum()\n",
    "        #prop_times.append( len(indices) / len(states))\n",
    "        prop_times.append(times)\n",
    "\n",
    "    return np.mean(prop_times)\n"
   ]
  },
  {
   "cell_type": "code",
   "execution_count": 26,
   "metadata": {},
   "outputs": [],
   "source": [
    "ses = 3\n",
    "agent_data=data[0]\n",
    "first_trials = get_first_trial_info(agent_data)\n",
    "states = np.sort(agent_data[(agent_data.session == ses) & (agent_data.trial == 0)]['state'])\n",
    "previous_platform = first_trials['previous platform'][ses]\n",
    "surrounding_states = np.sort(np.array(get_surrounding_states(int(previous_platform), env)))\n",
    "indices = np.searchsorted(surrounding_states, states)"
   ]
  },
  {
   "cell_type": "code",
   "execution_count": 27,
   "metadata": {},
   "outputs": [
    {
     "data": {
      "text/plain": [
       "61"
      ]
     },
     "execution_count": 27,
     "metadata": {},
     "output_type": "execute_result"
    }
   ],
   "source": [
    "# searchsorted is not the way \n",
    "np.isin(states, surrounding_states).sum()"
   ]
  },
  {
   "cell_type": "code",
   "execution_count": 28,
   "metadata": {},
   "outputs": [
    {
     "data": {
      "text/plain": [
       "array([  0.,   0.,   1.,   2.,   3.,   5.,   5.,   5.,   5.,   5.,   5.,\n",
       "         6.,   6.,   6.,   6.,  12.,  12.,  13.,  15.,  15.,  16.,  16.,\n",
       "        16.,  17.,  17.,  17.,  17.,  18.,  26.,  32.,  32.,  34.,  34.,\n",
       "        35.,  35.,  35.,  47.,  48.,  57.,  58.,  58.,  75.,  86.,  86.,\n",
       "        87.,  87.,  88.,  92., 109., 120., 120., 121., 121., 121., 121.,\n",
       "       121., 122., 122., 122., 122., 122., 123., 124., 125., 128., 128.,\n",
       "       148., 162., 162., 163., 163., 163., 163., 163., 164., 164., 164.,\n",
       "       165., 165., 166., 166., 167., 167., 167., 167., 167., 169., 170.,\n",
       "       170., 171., 192., 193., 210., 210., 210., 210., 211., 211., 211.,\n",
       "       212., 213., 214., 215., 215., 216., 218., 218., 218., 218., 219.,\n",
       "       219., 219., 219., 219., 219., 219., 219., 219., 220., 243., 244.,\n",
       "       244., 264., 265.])"
      ]
     },
     "execution_count": 28,
     "metadata": {},
     "output_type": "execute_result"
    }
   ],
   "source": [
    "states"
   ]
  },
  {
   "cell_type": "code",
   "execution_count": 29,
   "metadata": {},
   "outputs": [
    {
     "data": {
      "text/plain": [
       "array([ 33,  34,  35,  55,  56,  57,  58,  59,  83,  84,  85,  86,  87,\n",
       "        88,  89, 117, 118, 119, 120, 121, 122, 123, 124, 125, 158, 159,\n",
       "       160, 161, 162, 163, 164, 165, 166, 167, 205, 206, 207, 208, 209,\n",
       "       210, 211, 212, 213, 214, 215, 258, 259, 260, 261, 262, 263, 264,\n",
       "       265, 266, 267, 268])"
      ]
     },
     "execution_count": 29,
     "metadata": {},
     "output_type": "execute_result"
    }
   ],
   "source": [
    "surrounding_states"
   ]
  },
  {
   "cell_type": "code",
   "execution_count": 30,
   "metadata": {},
   "outputs": [
    {
     "data": {
      "text/plain": [
       "29.25"
      ]
     },
     "execution_count": 30,
     "metadata": {},
     "output_type": "execute_result"
    }
   ],
   "source": [
    "get_allo_index(data[0], env)"
   ]
  },
  {
   "cell_type": "code",
   "execution_count": 31,
   "metadata": {},
   "outputs": [
    {
     "data": {
      "text/plain": [
       "130.25"
      ]
     },
     "execution_count": 31,
     "metadata": {},
     "output_type": "execute_result"
    }
   ],
   "source": [
    "get_allo_index(data[1], env) ### returns the same number??? "
   ]
  },
  {
   "cell_type": "code",
   "execution_count": 32,
   "metadata": {},
   "outputs": [
    {
     "data": {
      "text/plain": [
       "<matplotlib.axes._subplots.AxesSubplot at 0x1a1caef588>"
      ]
     },
     "execution_count": 32,
     "metadata": {},
     "output_type": "execute_result"
    },
    {
     "data": {
      "image/png": "[encoded data removed]",
      "text/plain": [
       "<Figure size 432x288 with 1 Axes>"
      ]
     },
     "metadata": {
      "needs_background": "light"
     },
     "output_type": "display_data"
    }
   ],
   "source": [
    "data[0].plot(x='total trial', y='escape time')"
   ]
  },
  {
   "cell_type": "code",
   "execution_count": 33,
   "metadata": {},
   "outputs": [
    {
     "data": {
      "text/plain": [
       "<matplotlib.axes._subplots.AxesSubplot at 0x108a95c88>"
      ]
     },
     "execution_count": 33,
     "metadata": {},
     "output_type": "execute_result"
    },
    {
     "data": {
      "image/png": "[encoded data removed]",
      "text/plain": [
       "<Figure size 432x288 with 1 Axes>"
      ]
     },
     "metadata": {
      "needs_background": "light"
     },
     "output_type": "display_data"
    }
   ],
   "source": [
    "data[1].plot(x='total trial', y='escape time')"
   ]
  },
  {
   "cell_type": "code",
   "execution_count": null,
   "metadata": {},
   "outputs": [],
   "source": []
  },
  {
   "cell_type": "code",
   "execution_count": 34,
   "metadata": {},
   "outputs": [],
   "source": [
    "sess = 1\n",
    "ag = 1\n",
    "\n",
    "s2t0 = data[ag][np.logical_and(data[ag].trial == 0, data[ag].session == sess)]\n",
    "\n",
    "previous_platform = data[ag][data[ag].session == sess - 1].platform.iloc[0]\n",
    "        \n"
   ]
  },
  {
   "cell_type": "code",
   "execution_count": 35,
   "metadata": {},
   "outputs": [
    {
     "name": "stderr",
     "output_type": "stream",
     "text": [
      "/Users/jessegeerts/miniconda3/envs/models/lib/python3.6/site-packages/ipykernel_launcher.py:1: SettingWithCopyWarning: \n",
      "A value is trying to be set on a copy of a slice from a DataFrame.\n",
      "Try using .loc[row_indexer,col_indexer] = value instead\n",
      "\n",
      "See the caveats in the documentation: http://pandas.pydata.org/pandas-docs/stable/indexing.html#indexing-view-versus-copy\n",
      "  \"\"\"Entry point for launching an IPython kernel.\n"
     ]
    },
    {
     "data": {
      "text/plain": [
       "<matplotlib.axes._subplots.AxesSubplot at 0x1a1c122240>"
      ]
     },
     "execution_count": 35,
     "metadata": {},
     "output_type": "execute_result"
    },
    {
     "data": {
      "image/png": "[encoded data removed]",
      "text/plain": [
       "<Figure size 432x288 with 1 Axes>"
      ]
     },
     "metadata": {
      "needs_background": "light"
     },
     "output_type": "display_data"
    }
   ],
   "source": [
    "s2t0['previous platform'] = previous_platform\n",
    "env.plot_occupancy_on_grid(s2t0)"
   ]
  },
  {
   "cell_type": "code",
   "execution_count": 36,
   "metadata": {},
   "outputs": [
    {
     "data": {
      "text/html": [
       "<div>\n",
       "<style scoped>\n",
       "    .dataframe tbody tr th:only-of-type {\n",
       "        vertical-align: middle;\n",
       "    }\n",
       "\n",
       "    .dataframe tbody tr th {\n",
       "        vertical-align: top;\n",
       "    }\n",
       "\n",
       "    .dataframe thead th {\n",
       "        text-align: right;\n",
       "    }\n",
       "</style>\n",
       "<table border=\"1\" class=\"dataframe\">\n",
       "  <thead>\n",
       "    <tr style=\"text-align: right;\">\n",
       "      <th></th>\n",
       "      <th>DLS reliability</th>\n",
       "      <th>HPC reliability</th>\n",
       "      <th>P(SR)</th>\n",
       "      <th>RPE</th>\n",
       "      <th>alpha</th>\n",
       "      <th>beta</th>\n",
       "      <th>escape time</th>\n",
       "      <th>platform</th>\n",
       "      <th>reward</th>\n",
       "      <th>state</th>\n",
       "      <th>time</th>\n",
       "      <th>total time</th>\n",
       "      <th>total trial</th>\n",
       "      <th>trial</th>\n",
       "    </tr>\n",
       "    <tr>\n",
       "      <th>session</th>\n",
       "      <th></th>\n",
       "      <th></th>\n",
       "      <th></th>\n",
       "      <th></th>\n",
       "      <th></th>\n",
       "      <th></th>\n",
       "      <th></th>\n",
       "      <th></th>\n",
       "      <th></th>\n",
       "      <th></th>\n",
       "      <th></th>\n",
       "      <th></th>\n",
       "      <th></th>\n",
       "      <th></th>\n",
       "    </tr>\n",
       "  </thead>\n",
       "  <tbody>\n",
       "    <tr>\n",
       "      <th>0</th>\n",
       "      <td>0.000000</td>\n",
       "      <td>0.800000</td>\n",
       "      <td>0.385670</td>\n",
       "      <td>0.000000</td>\n",
       "      <td>0.250000</td>\n",
       "      <td>1.000000</td>\n",
       "      <td>1000.0</td>\n",
       "      <td>210.0</td>\n",
       "      <td>0.000000</td>\n",
       "      <td>122.526474</td>\n",
       "      <td>500.0</td>\n",
       "      <td>500.0</td>\n",
       "      <td>0</td>\n",
       "      <td>0</td>\n",
       "    </tr>\n",
       "    <tr>\n",
       "      <th>1</th>\n",
       "      <td>0.011779</td>\n",
       "      <td>0.776085</td>\n",
       "      <td>0.371749</td>\n",
       "      <td>0.006282</td>\n",
       "      <td>0.244271</td>\n",
       "      <td>0.989785</td>\n",
       "      <td>285.0</td>\n",
       "      <td>192.0</td>\n",
       "      <td>0.003497</td>\n",
       "      <td>146.297203</td>\n",
       "      <td>142.5</td>\n",
       "      <td>2485.5</td>\n",
       "      <td>4</td>\n",
       "      <td>0</td>\n",
       "    </tr>\n",
       "    <tr>\n",
       "      <th>2</th>\n",
       "      <td>0.046637</td>\n",
       "      <td>0.658424</td>\n",
       "      <td>0.320115</td>\n",
       "      <td>0.045338</td>\n",
       "      <td>0.227375</td>\n",
       "      <td>0.959574</td>\n",
       "      <td>54.0</td>\n",
       "      <td>210.0</td>\n",
       "      <td>0.018182</td>\n",
       "      <td>158.909091</td>\n",
       "      <td>27.0</td>\n",
       "      <td>3142.0</td>\n",
       "      <td>8</td>\n",
       "      <td>0</td>\n",
       "    </tr>\n",
       "    <tr>\n",
       "      <th>3</th>\n",
       "      <td>0.123621</td>\n",
       "      <td>0.602345</td>\n",
       "      <td>0.268750</td>\n",
       "      <td>0.011416</td>\n",
       "      <td>0.190995</td>\n",
       "      <td>0.893192</td>\n",
       "      <td>123.0</td>\n",
       "      <td>192.0</td>\n",
       "      <td>0.008065</td>\n",
       "      <td>121.024194</td>\n",
       "      <td>61.5</td>\n",
       "      <td>3715.5</td>\n",
       "      <td>12</td>\n",
       "      <td>0</td>\n",
       "    </tr>\n",
       "    <tr>\n",
       "      <th>4</th>\n",
       "      <td>0.168176</td>\n",
       "      <td>0.496329</td>\n",
       "      <td>0.223521</td>\n",
       "      <td>0.019473</td>\n",
       "      <td>0.170987</td>\n",
       "      <td>0.855167</td>\n",
       "      <td>118.0</td>\n",
       "      <td>174.0</td>\n",
       "      <td>0.008403</td>\n",
       "      <td>179.596639</td>\n",
       "      <td>59.0</td>\n",
       "      <td>4130.0</td>\n",
       "      <td>16</td>\n",
       "      <td>0</td>\n",
       "    </tr>\n",
       "    <tr>\n",
       "      <th>5</th>\n",
       "      <td>0.207541</td>\n",
       "      <td>0.478697</td>\n",
       "      <td>0.202583</td>\n",
       "      <td>0.005679</td>\n",
       "      <td>0.154189</td>\n",
       "      <td>0.821919</td>\n",
       "      <td>257.0</td>\n",
       "      <td>210.0</td>\n",
       "      <td>0.003876</td>\n",
       "      <td>132.186047</td>\n",
       "      <td>128.5</td>\n",
       "      <td>4776.5</td>\n",
       "      <td>20</td>\n",
       "      <td>0</td>\n",
       "    </tr>\n",
       "    <tr>\n",
       "      <th>6</th>\n",
       "      <td>0.244880</td>\n",
       "      <td>0.466913</td>\n",
       "      <td>0.184352</td>\n",
       "      <td>0.007599</td>\n",
       "      <td>0.139138</td>\n",
       "      <td>0.790753</td>\n",
       "      <td>254.0</td>\n",
       "      <td>185.0</td>\n",
       "      <td>0.003922</td>\n",
       "      <td>129.827451</td>\n",
       "      <td>127.0</td>\n",
       "      <td>6195.0</td>\n",
       "      <td>24</td>\n",
       "      <td>0</td>\n",
       "    </tr>\n",
       "    <tr>\n",
       "      <th>7</th>\n",
       "      <td>0.295309</td>\n",
       "      <td>0.435760</td>\n",
       "      <td>0.158472</td>\n",
       "      <td>0.004068</td>\n",
       "      <td>0.120309</td>\n",
       "      <td>0.749335</td>\n",
       "      <td>208.0</td>\n",
       "      <td>216.0</td>\n",
       "      <td>0.004785</td>\n",
       "      <td>160.765550</td>\n",
       "      <td>104.0</td>\n",
       "      <td>6770.0</td>\n",
       "      <td>28</td>\n",
       "      <td>0</td>\n",
       "    </tr>\n",
       "    <tr>\n",
       "      <th>8</th>\n",
       "      <td>0.340893</td>\n",
       "      <td>0.429987</td>\n",
       "      <td>0.140156</td>\n",
       "      <td>0.004648</td>\n",
       "      <td>0.104854</td>\n",
       "      <td>0.712668</td>\n",
       "      <td>337.0</td>\n",
       "      <td>185.0</td>\n",
       "      <td>0.002959</td>\n",
       "      <td>195.082840</td>\n",
       "      <td>168.5</td>\n",
       "      <td>7283.5</td>\n",
       "      <td>32</td>\n",
       "      <td>0</td>\n",
       "    </tr>\n",
       "    <tr>\n",
       "      <th>9</th>\n",
       "      <td>0.398786</td>\n",
       "      <td>0.403911</td>\n",
       "      <td>0.116505</td>\n",
       "      <td>0.007825</td>\n",
       "      <td>0.087399</td>\n",
       "      <td>0.667295</td>\n",
       "      <td>135.0</td>\n",
       "      <td>197.0</td>\n",
       "      <td>0.007353</td>\n",
       "      <td>195.169118</td>\n",
       "      <td>67.5</td>\n",
       "      <td>8039.5</td>\n",
       "      <td>36</td>\n",
       "      <td>0</td>\n",
       "    </tr>\n",
       "    <tr>\n",
       "      <th>10</th>\n",
       "      <td>0.452342</td>\n",
       "      <td>0.390282</td>\n",
       "      <td>0.098251</td>\n",
       "      <td>0.006776</td>\n",
       "      <td>0.073368</td>\n",
       "      <td>0.626645</td>\n",
       "      <td>213.0</td>\n",
       "      <td>216.0</td>\n",
       "      <td>0.004673</td>\n",
       "      <td>147.696262</td>\n",
       "      <td>106.5</td>\n",
       "      <td>8700.5</td>\n",
       "      <td>40</td>\n",
       "      <td>0</td>\n",
       "    </tr>\n",
       "  </tbody>\n",
       "</table>\n",
       "</div>"
      ],
      "text/plain": [
       "         DLS reliability  HPC reliability     P(SR)       RPE     alpha  \\\n",
       "session                                                                   \n",
       "0               0.000000         0.800000  0.385670  0.000000  0.250000   \n",
       "1               0.011779         0.776085  0.371749  0.006282  0.244271   \n",
       "2               0.046637         0.658424  0.320115  0.045338  0.227375   \n",
       "3               0.123621         0.602345  0.268750  0.011416  0.190995   \n",
       "4               0.168176         0.496329  0.223521  0.019473  0.170987   \n",
       "5               0.207541         0.478697  0.202583  0.005679  0.154189   \n",
       "6               0.244880         0.466913  0.184352  0.007599  0.139138   \n",
       "7               0.295309         0.435760  0.158472  0.004068  0.120309   \n",
       "8               0.340893         0.429987  0.140156  0.004648  0.104854   \n",
       "9               0.398786         0.403911  0.116505  0.007825  0.087399   \n",
       "10              0.452342         0.390282  0.098251  0.006776  0.073368   \n",
       "\n",
       "             beta  escape time  platform    reward       state   time  \\\n",
       "session                                                                 \n",
       "0        1.000000       1000.0     210.0  0.000000  122.526474  500.0   \n",
       "1        0.989785        285.0     192.0  0.003497  146.297203  142.5   \n",
       "2        0.959574         54.0     210.0  0.018182  158.909091   27.0   \n",
       "3        0.893192        123.0     192.0  0.008065  121.024194   61.5   \n",
       "4        0.855167        118.0     174.0  0.008403  179.596639   59.0   \n",
       "5        0.821919        257.0     210.0  0.003876  132.186047  128.5   \n",
       "6        0.790753        254.0     185.0  0.003922  129.827451  127.0   \n",
       "7        0.749335        208.0     216.0  0.004785  160.765550  104.0   \n",
       "8        0.712668        337.0     185.0  0.002959  195.082840  168.5   \n",
       "9        0.667295        135.0     197.0  0.007353  195.169118   67.5   \n",
       "10       0.626645        213.0     216.0  0.004673  147.696262  106.5   \n",
       "\n",
       "         total time  total trial  trial  \n",
       "session                                  \n",
       "0             500.0            0      0  \n",
       "1            2485.5            4      0  \n",
       "2            3142.0            8      0  \n",
       "3            3715.5           12      0  \n",
       "4            4130.0           16      0  \n",
       "5            4776.5           20      0  \n",
       "6            6195.0           24      0  \n",
       "7            6770.0           28      0  \n",
       "8            7283.5           32      0  \n",
       "9            8039.5           36      0  \n",
       "10           8700.5           40      0  "
      ]
     },
     "execution_count": 36,
     "metadata": {},
     "output_type": "execute_result"
    }
   ],
   "source": [
    "data[0][data[0].trial==0].pivot_table(index='session')"
   ]
  },
  {
   "cell_type": "code",
   "execution_count": 37,
   "metadata": {},
   "outputs": [
    {
     "data": {
      "text/html": [
       "<div>\n",
       "<style scoped>\n",
       "    .dataframe tbody tr th:only-of-type {\n",
       "        vertical-align: middle;\n",
       "    }\n",
       "\n",
       "    .dataframe tbody tr th {\n",
       "        vertical-align: top;\n",
       "    }\n",
       "\n",
       "    .dataframe thead th {\n",
       "        text-align: right;\n",
       "    }\n",
       "</style>\n",
       "<table border=\"1\" class=\"dataframe\">\n",
       "  <thead>\n",
       "    <tr style=\"text-align: right;\">\n",
       "      <th></th>\n",
       "      <th>DLS reliability</th>\n",
       "      <th>HPC reliability</th>\n",
       "      <th>P(SR)</th>\n",
       "      <th>RPE</th>\n",
       "      <th>alpha</th>\n",
       "      <th>beta</th>\n",
       "      <th>escape time</th>\n",
       "      <th>platform</th>\n",
       "      <th>reward</th>\n",
       "      <th>state</th>\n",
       "      <th>time</th>\n",
       "      <th>total time</th>\n",
       "      <th>total trial</th>\n",
       "      <th>trial</th>\n",
       "    </tr>\n",
       "    <tr>\n",
       "      <th>session</th>\n",
       "      <th></th>\n",
       "      <th></th>\n",
       "      <th></th>\n",
       "      <th></th>\n",
       "      <th></th>\n",
       "      <th></th>\n",
       "      <th></th>\n",
       "      <th></th>\n",
       "      <th></th>\n",
       "      <th></th>\n",
       "      <th></th>\n",
       "      <th></th>\n",
       "      <th></th>\n",
       "      <th></th>\n",
       "    </tr>\n",
       "  </thead>\n",
       "  <tbody>\n",
       "    <tr>\n",
       "      <th>0</th>\n",
       "      <td>0.000000</td>\n",
       "      <td>0.799986</td>\n",
       "      <td>0.939509</td>\n",
       "      <td>0.001013</td>\n",
       "      <td>5.000000</td>\n",
       "      <td>0.250000</td>\n",
       "      <td>986.0</td>\n",
       "      <td>192.0</td>\n",
       "      <td>0.001013</td>\n",
       "      <td>120.459980</td>\n",
       "      <td>493.0</td>\n",
       "      <td>493.0</td>\n",
       "      <td>0</td>\n",
       "      <td>0</td>\n",
       "    </tr>\n",
       "    <tr>\n",
       "      <th>1</th>\n",
       "      <td>0.023181</td>\n",
       "      <td>0.736964</td>\n",
       "      <td>0.935511</td>\n",
       "      <td>0.066481</td>\n",
       "      <td>4.774611</td>\n",
       "      <td>0.245983</td>\n",
       "      <td>276.0</td>\n",
       "      <td>203.0</td>\n",
       "      <td>0.003610</td>\n",
       "      <td>155.129964</td>\n",
       "      <td>138.0</td>\n",
       "      <td>1577.0</td>\n",
       "      <td>4</td>\n",
       "      <td>0</td>\n",
       "    </tr>\n",
       "    <tr>\n",
       "      <th>2</th>\n",
       "      <td>0.091301</td>\n",
       "      <td>0.671128</td>\n",
       "      <td>0.930192</td>\n",
       "      <td>0.013035</td>\n",
       "      <td>4.120918</td>\n",
       "      <td>0.234200</td>\n",
       "      <td>292.0</td>\n",
       "      <td>181.0</td>\n",
       "      <td>0.003413</td>\n",
       "      <td>101.675768</td>\n",
       "      <td>146.0</td>\n",
       "      <td>2474.0</td>\n",
       "      <td>8</td>\n",
       "      <td>0</td>\n",
       "    </tr>\n",
       "    <tr>\n",
       "      <th>3</th>\n",
       "      <td>0.150995</td>\n",
       "      <td>0.630409</td>\n",
       "      <td>0.927322</td>\n",
       "      <td>0.040144</td>\n",
       "      <td>3.571755</td>\n",
       "      <td>0.223930</td>\n",
       "      <td>1000.0</td>\n",
       "      <td>216.0</td>\n",
       "      <td>0.000000</td>\n",
       "      <td>127.293706</td>\n",
       "      <td>500.0</td>\n",
       "      <td>3585.0</td>\n",
       "      <td>12</td>\n",
       "      <td>0</td>\n",
       "    </tr>\n",
       "    <tr>\n",
       "      <th>4</th>\n",
       "      <td>0.199267</td>\n",
       "      <td>0.622950</td>\n",
       "      <td>0.926505</td>\n",
       "      <td>0.078175</td>\n",
       "      <td>3.152890</td>\n",
       "      <td>0.215688</td>\n",
       "      <td>557.0</td>\n",
       "      <td>185.0</td>\n",
       "      <td>0.001792</td>\n",
       "      <td>140.741935</td>\n",
       "      <td>278.5</td>\n",
       "      <td>5190.5</td>\n",
       "      <td>16</td>\n",
       "      <td>0</td>\n",
       "    </tr>\n",
       "    <tr>\n",
       "      <th>5</th>\n",
       "      <td>0.279718</td>\n",
       "      <td>0.584445</td>\n",
       "      <td>0.923381</td>\n",
       "      <td>0.063639</td>\n",
       "      <td>2.518800</td>\n",
       "      <td>0.202127</td>\n",
       "      <td>683.0</td>\n",
       "      <td>203.0</td>\n",
       "      <td>0.001462</td>\n",
       "      <td>124.328947</td>\n",
       "      <td>341.5</td>\n",
       "      <td>6093.5</td>\n",
       "      <td>20</td>\n",
       "      <td>0</td>\n",
       "    </tr>\n",
       "    <tr>\n",
       "      <th>6</th>\n",
       "      <td>0.344488</td>\n",
       "      <td>0.529076</td>\n",
       "      <td>0.919011</td>\n",
       "      <td>0.029036</td>\n",
       "      <td>2.073978</td>\n",
       "      <td>0.191414</td>\n",
       "      <td>735.0</td>\n",
       "      <td>185.0</td>\n",
       "      <td>0.001359</td>\n",
       "      <td>164.543478</td>\n",
       "      <td>367.5</td>\n",
       "      <td>7415.5</td>\n",
       "      <td>24</td>\n",
       "      <td>0</td>\n",
       "    </tr>\n",
       "    <tr>\n",
       "      <th>7</th>\n",
       "      <td>0.401282</td>\n",
       "      <td>0.499301</td>\n",
       "      <td>0.912159</td>\n",
       "      <td>0.147805</td>\n",
       "      <td>1.734003</td>\n",
       "      <td>0.182203</td>\n",
       "      <td>417.0</td>\n",
       "      <td>174.0</td>\n",
       "      <td>0.002392</td>\n",
       "      <td>108.416268</td>\n",
       "      <td>208.5</td>\n",
       "      <td>8512.5</td>\n",
       "      <td>28</td>\n",
       "      <td>0</td>\n",
       "    </tr>\n",
       "    <tr>\n",
       "      <th>8</th>\n",
       "      <td>0.407370</td>\n",
       "      <td>0.454750</td>\n",
       "      <td>0.907308</td>\n",
       "      <td>0.108709</td>\n",
       "      <td>1.700305</td>\n",
       "      <td>0.181226</td>\n",
       "      <td>1000.0</td>\n",
       "      <td>210.0</td>\n",
       "      <td>0.000000</td>\n",
       "      <td>139.327672</td>\n",
       "      <td>500.0</td>\n",
       "      <td>9498.0</td>\n",
       "      <td>32</td>\n",
       "      <td>0</td>\n",
       "    </tr>\n",
       "    <tr>\n",
       "      <th>9</th>\n",
       "      <td>0.407370</td>\n",
       "      <td>0.454750</td>\n",
       "      <td>0.907307</td>\n",
       "      <td>0.019760</td>\n",
       "      <td>1.700305</td>\n",
       "      <td>0.181226</td>\n",
       "      <td>1000.0</td>\n",
       "      <td>174.0</td>\n",
       "      <td>0.000000</td>\n",
       "      <td>116.388611</td>\n",
       "      <td>500.0</td>\n",
       "      <td>13502.0</td>\n",
       "      <td>36</td>\n",
       "      <td>0</td>\n",
       "    </tr>\n",
       "    <tr>\n",
       "      <th>10</th>\n",
       "      <td>0.239113</td>\n",
       "      <td>0.431998</td>\n",
       "      <td>0.911853</td>\n",
       "      <td>0.121699</td>\n",
       "      <td>2.828073</td>\n",
       "      <td>0.208940</td>\n",
       "      <td>927.0</td>\n",
       "      <td>197.0</td>\n",
       "      <td>0.001078</td>\n",
       "      <td>121.739224</td>\n",
       "      <td>463.5</td>\n",
       "      <td>15768.5</td>\n",
       "      <td>40</td>\n",
       "      <td>0</td>\n",
       "    </tr>\n",
       "  </tbody>\n",
       "</table>\n",
       "</div>"
      ],
      "text/plain": [
       "         DLS reliability  HPC reliability     P(SR)       RPE     alpha  \\\n",
       "session                                                                   \n",
       "0               0.000000         0.799986  0.939509  0.001013  5.000000   \n",
       "1               0.023181         0.736964  0.935511  0.066481  4.774611   \n",
       "2               0.091301         0.671128  0.930192  0.013035  4.120918   \n",
       "3               0.150995         0.630409  0.927322  0.040144  3.571755   \n",
       "4               0.199267         0.622950  0.926505  0.078175  3.152890   \n",
       "5               0.279718         0.584445  0.923381  0.063639  2.518800   \n",
       "6               0.344488         0.529076  0.919011  0.029036  2.073978   \n",
       "7               0.401282         0.499301  0.912159  0.147805  1.734003   \n",
       "8               0.407370         0.454750  0.907308  0.108709  1.700305   \n",
       "9               0.407370         0.454750  0.907307  0.019760  1.700305   \n",
       "10              0.239113         0.431998  0.911853  0.121699  2.828073   \n",
       "\n",
       "             beta  escape time  platform    reward       state   time  \\\n",
       "session                                                                 \n",
       "0        0.250000        986.0     192.0  0.001013  120.459980  493.0   \n",
       "1        0.245983        276.0     203.0  0.003610  155.129964  138.0   \n",
       "2        0.234200        292.0     181.0  0.003413  101.675768  146.0   \n",
       "3        0.223930       1000.0     216.0  0.000000  127.293706  500.0   \n",
       "4        0.215688        557.0     185.0  0.001792  140.741935  278.5   \n",
       "5        0.202127        683.0     203.0  0.001462  124.328947  341.5   \n",
       "6        0.191414        735.0     185.0  0.001359  164.543478  367.5   \n",
       "7        0.182203        417.0     174.0  0.002392  108.416268  208.5   \n",
       "8        0.181226       1000.0     210.0  0.000000  139.327672  500.0   \n",
       "9        0.181226       1000.0     174.0  0.000000  116.388611  500.0   \n",
       "10       0.208940        927.0     197.0  0.001078  121.739224  463.5   \n",
       "\n",
       "         total time  total trial  trial  \n",
       "session                                  \n",
       "0             493.0            0      0  \n",
       "1            1577.0            4      0  \n",
       "2            2474.0            8      0  \n",
       "3            3585.0           12      0  \n",
       "4            5190.5           16      0  \n",
       "5            6093.5           20      0  \n",
       "6            7415.5           24      0  \n",
       "7            8512.5           28      0  \n",
       "8            9498.0           32      0  \n",
       "9           13502.0           36      0  \n",
       "10          15768.5           40      0  "
      ]
     },
     "execution_count": 37,
     "metadata": {},
     "output_type": "execute_result"
    }
   ],
   "source": [
    "data[1][data[1].trial==0].pivot_table(index='session')"
   ]
  },
  {
   "cell_type": "code",
   "execution_count": 38,
   "metadata": {},
   "outputs": [
    {
     "data": {
      "text/plain": [
       "(0, -9.237604307034012)"
      ]
     },
     "execution_count": 38,
     "metadata": {},
     "output_type": "execute_result"
    }
   ],
   "source": [
    "env.get_state_location(216)"
   ]
  },
  {
   "cell_type": "code",
   "execution_count": null,
   "metadata": {},
   "outputs": [],
   "source": []
  },
  {
   "cell_type": "code",
   "execution_count": null,
   "metadata": {},
   "outputs": [],
   "source": []
  }
 ],
 "metadata": {
  "kernelspec": {
   "display_name": "Python 3",
   "language": "python",
   "name": "python3"
  },
  "language_info": {
   "codemirror_mode": {
    "name": "ipython",
    "version": 3
   },
   "file_extension": ".py",
   "mimetype": "text/x-python",
   "name": "python",
   "nbconvert_exporter": "python",
   "pygments_lexer": "ipython3",
   "version": "3.6.8"
  }
 },
 "nbformat": 4,
 "nbformat_minor": 2
}
